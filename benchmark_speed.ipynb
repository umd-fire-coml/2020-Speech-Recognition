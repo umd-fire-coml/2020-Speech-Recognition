{
  "nbformat": 4,
  "nbformat_minor": 0,
  "metadata": {
    "colab": {
      "name": "benchmark_speed.ipynb",
      "provenance": [],
      "collapsed_sections": []
    },
    "kernelspec": {
      "name": "python3",
      "display_name": "Python 3"
    }
  },
  "cells": [
    {
      "cell_type": "markdown",
      "metadata": {
        "id": "jVtXOf1f3baz"
      },
      "source": [
        "# Data Generator Speed/Benchmarking \n",
        "This notebook takes our DataGenerator object, constructs a DataGenerator object, and then measures the speed of generating batches of data. As you navigate through the notebook you can also find average speed found for small samples as well as individual batches. If you have not yet setup the DataGenerator you may want to follow that notebook first, titled generator_test.ipynb, or you can choose to read along this one."
      ]
    },
    {
      "cell_type": "markdown",
      "metadata": {
        "id": "77tGDCSf4SGh"
      },
      "source": [
        "Use the following commands to install the two libraries. ffmpeg is not used at this time but may be necessary later. Librosa allows us to easily read and process audio data."
      ]
    },
    {
      "cell_type": "code",
      "metadata": {
        "id": "2rAo-dgTCSg8",
        "outputId": "9b0f5dc9-60d8-4a7d-b888-1970b3499106",
        "colab": {
          "base_uri": "https://localhost:8080/",
          "height": 241
        }
      },
      "source": [
        "!pip install librosa\n"
      ],
      "execution_count": null,
      "outputs": [
        {
          "output_type": "stream",
          "text": [
            "Requirement already satisfied: librosa in /usr/local/lib/python3.6/dist-packages (0.6.3)\n",
            "Requirement already satisfied: joblib>=0.12 in /usr/local/lib/python3.6/dist-packages (from librosa) (0.16.0)\n",
            "Requirement already satisfied: numba>=0.38.0 in /usr/local/lib/python3.6/dist-packages (from librosa) (0.48.0)\n",
            "Requirement already satisfied: audioread>=2.0.0 in /usr/local/lib/python3.6/dist-packages (from librosa) (2.1.8)\n",
            "Requirement already satisfied: decorator>=3.0.0 in /usr/local/lib/python3.6/dist-packages (from librosa) (4.4.2)\n",
            "Requirement already satisfied: six>=1.3 in /usr/local/lib/python3.6/dist-packages (from librosa) (1.15.0)\n",
            "Requirement already satisfied: numpy>=1.8.0 in /usr/local/lib/python3.6/dist-packages (from librosa) (1.18.5)\n",
            "Requirement already satisfied: resampy>=0.2.0 in /usr/local/lib/python3.6/dist-packages (from librosa) (0.2.2)\n",
            "Requirement already satisfied: scipy>=1.0.0 in /usr/local/lib/python3.6/dist-packages (from librosa) (1.4.1)\n",
            "Requirement already satisfied: scikit-learn!=0.19.0,>=0.14.0 in /usr/local/lib/python3.6/dist-packages (from librosa) (0.22.2.post1)\n",
            "Requirement already satisfied: llvmlite<0.32.0,>=0.31.0dev0 in /usr/local/lib/python3.6/dist-packages (from numba>=0.38.0->librosa) (0.31.0)\n",
            "Requirement already satisfied: setuptools in /usr/local/lib/python3.6/dist-packages (from numba>=0.38.0->librosa) (50.3.0)\n"
          ],
          "name": "stdout"
        }
      ]
    },
    {
      "cell_type": "code",
      "metadata": {
        "id": "GFn2RjJPCZwT",
        "outputId": "31673734-a544-4b14-ad98-83662dabb642",
        "colab": {
          "base_uri": "https://localhost:8080/",
          "height": 190
        }
      },
      "source": [
        "!pip install ffmpeg\n"
      ],
      "execution_count": null,
      "outputs": [
        {
          "output_type": "stream",
          "text": [
            "Collecting ffmpeg\n",
            "  Downloading https://files.pythonhosted.org/packages/f0/cc/3b7408b8ecf7c1d20ad480c3eaed7619857bf1054b690226e906fdf14258/ffmpeg-1.4.tar.gz\n",
            "Building wheels for collected packages: ffmpeg\n",
            "  Building wheel for ffmpeg (setup.py) ... \u001b[?25l\u001b[?25hdone\n",
            "  Created wheel for ffmpeg: filename=ffmpeg-1.4-cp36-none-any.whl size=6083 sha256=926ca2dd1f5bc687a09da0e630045add667bc9e5bf85a5fe2c49d9014a1a6a72\n",
            "  Stored in directory: /root/.cache/pip/wheels/b6/68/c3/a05a35f647ba871e5572b9bbfc0b95fd1c6637a2219f959e7a\n",
            "Successfully built ffmpeg\n",
            "Installing collected packages: ffmpeg\n",
            "Successfully installed ffmpeg-1.4\n"
          ],
          "name": "stdout"
        }
      ]
    },
    {
      "cell_type": "markdown",
      "metadata": {
        "id": "SkODXd4e4snB"
      },
      "source": [
        "Verify directory structure and create directory for audio data."
      ]
    },
    {
      "cell_type": "code",
      "metadata": {
        "id": "NF2x09M8CdKv",
        "outputId": "793d5642-3521-4e77-9a93-1f65ea44c19d",
        "colab": {
          "base_uri": "https://localhost:8080/",
          "height": 34
        }
      },
      "source": [
        "ls"
      ],
      "execution_count": null,
      "outputs": [
        {
          "output_type": "stream",
          "text": [
            "\u001b[0m\u001b[01;34msample_data\u001b[0m/\n"
          ],
          "name": "stdout"
        }
      ]
    },
    {
      "cell_type": "code",
      "metadata": {
        "id": "6ZVyaGXeCepp"
      },
      "source": [
        "mkdir grace_data"
      ],
      "execution_count": null,
      "outputs": []
    },
    {
      "cell_type": "code",
      "metadata": {
        "id": "TSxpTnLACpTG"
      },
      "source": [
        "ls"
      ],
      "execution_count": null,
      "outputs": []
    },
    {
      "cell_type": "code",
      "metadata": {
        "id": "xpwhcM4fCuFm",
        "outputId": "56dd7a5a-1203-4497-e2b4-f07faf76fbc2",
        "colab": {
          "base_uri": "https://localhost:8080/",
          "height": 34
        }
      },
      "source": [
        "cd grace_data/"
      ],
      "execution_count": null,
      "outputs": [
        {
          "output_type": "stream",
          "text": [
            "/content/grace_data\n"
          ],
          "name": "stdout"
        }
      ]
    },
    {
      "cell_type": "markdown",
      "metadata": {
        "id": "wFnEEyci47Ji"
      },
      "source": [
        "Use the following two commands to unpack the Amazing Grace data from the below URL and into the current directory, creating a subdirectory under grace_data called amazing_grace."
      ]
    },
    {
      "cell_type": "code",
      "metadata": {
        "id": "7tuQP-_OCwTP",
        "outputId": "289547aa-39e4-436a-b103-606d8cb533b7",
        "colab": {
          "base_uri": "https://localhost:8080/",
          "height": 204
        }
      },
      "source": [
        "!wget https://ccrma.stanford.edu/damp/performances/amazing_grace/amazing_grace.tar.gz"
      ],
      "execution_count": null,
      "outputs": [
        {
          "output_type": "stream",
          "text": [
            "--2020-10-16 07:11:33--  https://ccrma.stanford.edu/damp/performances/amazing_grace/amazing_grace.tar.gz\n",
            "Resolving ccrma.stanford.edu (ccrma.stanford.edu)... 171.64.197.141\n",
            "Connecting to ccrma.stanford.edu (ccrma.stanford.edu)|171.64.197.141|:443... connected.\n",
            "HTTP request sent, awaiting response... 200 OK\n",
            "Length: 18757937250 (17G) [application/x-gzip]\n",
            "Saving to: ‘amazing_grace.tar.gz’\n",
            "\n",
            "amazing_grace.tar.g 100%[===================>]  17.47G  33.4MB/s    in 9m 52s  \n",
            "\n",
            "2020-10-16 07:21:25 (30.2 MB/s) - ‘amazing_grace.tar.gz’ saved [18757937250/18757937250]\n",
            "\n"
          ],
          "name": "stdout"
        }
      ]
    },
    {
      "cell_type": "code",
      "metadata": {
        "id": "JQSGUT8NG4H0"
      },
      "source": [
        "!tar xvzf amazing_grace.tar.gz;"
      ],
      "execution_count": null,
      "outputs": []
    },
    {
      "cell_type": "markdown",
      "metadata": {
        "id": "urAdJsP85E4l"
      },
      "source": [
        "Verify directory structure and presence of data."
      ]
    },
    {
      "cell_type": "code",
      "metadata": {
        "id": "b4co3OW0Jkia",
        "outputId": "5a517afe-7ab1-4d9e-e00c-d3645310ff56",
        "colab": {
          "base_uri": "https://localhost:8080/",
          "height": 51
        }
      },
      "source": [
        "%ls"
      ],
      "execution_count": null,
      "outputs": [
        {
          "output_type": "stream",
          "text": [
            "\u001b[0m\u001b[01;34mamazing_grace\u001b[0m/     amazing_grace.midi    amazing_grace.tsv\n",
            "amazing_grace.m4a  amazing_grace.tar.gz\n"
          ],
          "name": "stdout"
        }
      ]
    },
    {
      "cell_type": "code",
      "metadata": {
        "id": "q6fyrEyFJwL3",
        "outputId": "42192ba8-4102-4b67-addb-97b0000137e4",
        "colab": {
          "base_uri": "https://localhost:8080/",
          "height": 34
        }
      },
      "source": [
        "cd amazing_grace"
      ],
      "execution_count": null,
      "outputs": [
        {
          "output_type": "stream",
          "text": [
            "/content/grace_data/amazing_grace\n"
          ],
          "name": "stdout"
        }
      ]
    },
    {
      "cell_type": "code",
      "metadata": {
        "id": "AMhit9A6J0oi"
      },
      "source": [
        "%ls"
      ],
      "execution_count": null,
      "outputs": []
    },
    {
      "cell_type": "markdown",
      "metadata": {
        "id": "J2GsGjgF5J03"
      },
      "source": [
        "Import some more necessary libraries. If you are running this code locally it is assumed you have these installed but if not then use pip and install these popular libraries."
      ]
    },
    {
      "cell_type": "code",
      "metadata": {
        "id": "2ZKElpvvYawF"
      },
      "source": [
        "import numpy as np\n",
        "import keras\n",
        "\n",
        "import random\n",
        "import librosa\n",
        "from os import listdir\n",
        "from os.path import isfile, join"
      ],
      "execution_count": null,
      "outputs": []
    },
    {
      "cell_type": "markdown",
      "metadata": {
        "id": "DZ7qG7-D5TxH"
      },
      "source": [
        "Create list of files from the data and verify that list contains correct content."
      ]
    },
    {
      "cell_type": "code",
      "metadata": {
        "id": "QZRO01-NYoYN"
      },
      "source": [
        "file_list = [f for f in listdir(\".\") if isfile(join(\".\", f))]"
      ],
      "execution_count": null,
      "outputs": []
    },
    {
      "cell_type": "code",
      "metadata": {
        "id": "-om-H3jyY3HM",
        "outputId": "c7671924-8bf6-46c9-cf30-e27dae17c9bb",
        "colab": {
          "base_uri": "https://localhost:8080/",
          "height": 34
        }
      },
      "source": [
        "cd .."
      ],
      "execution_count": null,
      "outputs": [
        {
          "output_type": "stream",
          "text": [
            "/content/grace_data\n"
          ],
          "name": "stdout"
        }
      ]
    },
    {
      "cell_type": "code",
      "metadata": {
        "id": "ukpfY4PkdaP5",
        "outputId": "2cc4203e-6743-433a-8617-212ebf0abfbf",
        "colab": {
          "base_uri": "https://localhost:8080/",
          "height": 34
        }
      },
      "source": [
        "cd .."
      ],
      "execution_count": null,
      "outputs": [
        {
          "output_type": "stream",
          "text": [
            "/content\n"
          ],
          "name": "stdout"
        }
      ]
    },
    {
      "cell_type": "markdown",
      "metadata": {
        "id": "KlP05MzK5baN"
      },
      "source": [
        "Below is the script for the Data Generator. It takes in parameters corresponding to the data and then generates batches of data upon call (our batch size is set to one since we are dealing with audio data as described above, in the future we may look into reshaping methods).\n",
        "\n",
        "We are not generating any test data right now, as you can see with the commented out 'y' variable and corresponding code. This would generate labels along with the training data."
      ]
    },
    {
      "cell_type": "code",
      "metadata": {
        "id": "r3RHDG8fh6xQ"
      },
      "source": [
        "import numpy as np\n",
        "import keras\n",
        "\n",
        "import random\n",
        "import librosa\n",
        "from os import listdir\n",
        "from os.path import isfile, join\n",
        "\n",
        "class DataGenerator(keras.utils.Sequence):\n",
        "    'Generates data for Keras'\n",
        "    def __init__(self, path_prefix, list_IDs, labels, batch_size, dim, n_channels,\n",
        "                 n_classes, shuffle):\n",
        "        'Initialization'\n",
        "        self.dim = dim\n",
        "        self.batch_size = batch_size\n",
        "        self.labels = labels\n",
        "        self.list_IDs = list_IDs\n",
        "        self.n_channels = n_channels\n",
        "        self.n_classes = n_classes\n",
        "        self.shuffle = shuffle\n",
        "        self.prefix = path_prefix\n",
        "        self.on_epoch_end()\n",
        "\n",
        "    def __len__(self):\n",
        "        'Denotes the number of batches per epoch'\n",
        "        return int(np.floor(len(self.list_IDs) / self.batch_size))\n",
        "\n",
        "    def __getitem__(self, index):\n",
        "        'Generate one batch of data'\n",
        "        # Generate indexes of the batch\n",
        "        indexes = self.indexes[index*self.batch_size:(index+1)*self.batch_size]\n",
        "\n",
        "        # Find list of IDs\n",
        "        list_IDs_temp = [self.list_IDs[k] for k in indexes]\n",
        "\n",
        "        # Generate data\n",
        "        X = self.__data_generation(list_IDs_temp) #,y when other stuff is uncommented\n",
        "\n",
        "        return X#, y\n",
        "\n",
        "    def on_epoch_end(self):\n",
        "        'Updates indexes after each epoch'\n",
        "        self.indexes = np.arange(len(self.list_IDs))\n",
        "        if self.shuffle == True:\n",
        "            np.random.shuffle(self.indexes)\n",
        "\n",
        "    def __data_generation(self, list_IDs_temp):\n",
        "        'Generates data containing batch_size samples' # X : (n_samples, *dim, n_channels)\n",
        "        # Initialization\n",
        "        \n",
        "        curr_len = 0\n",
        "        for i,ID in enumerate(list_IDs_temp):\n",
        "          print(ID)\n",
        "          curr_len = len(self.load_audio('grace_data/amazing_grace/'+ID))\n",
        "        print(curr_len)\n",
        "        X = np.empty((self.batch_size, curr_len))\n",
        "        #y = np.empty((self.batch_size), dtype=int)\n",
        "\n",
        "        # Generate data\n",
        "        for i, ID in enumerate(list_IDs_temp):\n",
        "            # Store sample\n",
        "            #self.load_audio('grace_data/amazing_grace/312087870_108215812.m4a')\n",
        "            X[i,] = self.load_audio(self.prefix + \"/\" + ID)\n",
        "\n",
        "            # Store class\n",
        "            #y[i] = self.labels[ID]\n",
        "\n",
        "        return X#, keras.utils.to_categorical(y, num_classes=self.n_classes)\n",
        "\n",
        "    def load_audio(self,audio_file_path):\n",
        "        \"\"\"Load audio to numpy array and return it\n",
        "        \"\"\"\n",
        "        x,sr = librosa.load(audio_file_path, sr = None)\n",
        "        return x"
      ],
      "execution_count": null,
      "outputs": []
    },
    {
      "cell_type": "markdown",
      "metadata": {
        "id": "NvIfPKHG5wik"
      },
      "source": [
        "Construct a data generator with parameters corresponding to data, set labels to just one for now since we are not performing any classification at this moment."
      ]
    },
    {
      "cell_type": "code",
      "metadata": {
        "id": "8YxmsdT11jTp"
      },
      "source": [
        "dg = DataGenerator(\"grace_data/amazing_grace\",file_list,[\"grace\"]*len(file_list),1,(1,len(file_list)), 1,1,True)"
      ],
      "execution_count": null,
      "outputs": []
    },
    {
      "cell_type": "markdown",
      "metadata": {
        "id": "umjo8sShYkOh"
      },
      "source": [
        ""
      ]
    },
    {
      "cell_type": "markdown",
      "metadata": {
        "id": "RUvWNwywYeTI"
      },
      "source": [
        "# Benchmark Speed\n",
        "We will now measure the speed that it takes to generate batches using our Data Generator by calling the getItem method with multiple batches and making use of the Python Time library."
      ]
    },
    {
      "cell_type": "markdown",
      "metadata": {
        "id": "cPJ4lqRSaj7k"
      },
      "source": [
        "Import Python time library and test that we are able to use it with seconds."
      ]
    },
    {
      "cell_type": "code",
      "metadata": {
        "id": "3oTbS2kzaoLJ"
      },
      "source": [
        "import time"
      ],
      "execution_count": null,
      "outputs": []
    },
    {
      "cell_type": "code",
      "metadata": {
        "id": "jnOW7b8yaqtW",
        "outputId": "018056ee-385b-4d2b-c132-fc791fde98c8",
        "colab": {
          "base_uri": "https://localhost:8080/",
          "height": 34
        }
      },
      "source": [
        "time.time()"
      ],
      "execution_count": null,
      "outputs": [
        {
          "output_type": "execute_result",
          "data": {
            "text/plain": [
              "1602835102.1515386"
            ]
          },
          "metadata": {
            "tags": []
          },
          "execution_count": 31
        }
      ]
    },
    {
      "cell_type": "code",
      "metadata": {
        "id": "nxnTvb8VasLG",
        "outputId": "8060bacb-199d-430a-c279-3a18ab8b483f",
        "colab": {
          "base_uri": "https://localhost:8080/",
          "height": 34
        }
      },
      "source": [
        "time.time()"
      ],
      "execution_count": null,
      "outputs": [
        {
          "output_type": "execute_result",
          "data": {
            "text/plain": [
              "1602835108.6770604"
            ]
          },
          "metadata": {
            "tags": []
          },
          "execution_count": 32
        }
      ]
    },
    {
      "cell_type": "markdown",
      "metadata": {
        "id": "c9eu8Nf9a0VD"
      },
      "source": [
        "Now let's measure the time it takes to generate one single batch."
      ]
    },
    {
      "cell_type": "code",
      "metadata": {
        "id": "uQwYlZdna4PE",
        "outputId": "e5ac5002-5042-4030-8c1f-db2b0add07a9",
        "colab": {
          "base_uri": "https://localhost:8080/",
          "height": 68
        }
      },
      "source": [
        "start_time = time.time()\n",
        "dg.__getitem__(0)\n",
        "end_time = time.time()\n",
        "print(\"Process took %.2f seconds\" % (end_time-start_time))"
      ],
      "execution_count": null,
      "outputs": [
        {
          "output_type": "stream",
          "text": [
            "263008531_68996947.m4a\n",
            "8395840\n",
            "Process took 1.80 seconds\n"
          ],
          "name": "stdout"
        }
      ]
    },
    {
      "cell_type": "code",
      "metadata": {
        "id": "gHGExut5bNAs",
        "outputId": "ba441a2a-8a76-4f63-edab-4d682c2e4c23",
        "colab": {
          "base_uri": "https://localhost:8080/",
          "height": 68
        }
      },
      "source": [
        "start_time = time.time()\n",
        "dg.__getitem__(1030)\n",
        "end_time = time.time()\n",
        "print(\"Process took %.2f seconds\" % (end_time-start_time))"
      ],
      "execution_count": null,
      "outputs": [
        {
          "output_type": "stream",
          "text": [
            "286551583_103860735.m4a\n",
            "4215168\n",
            "Process took 1.27 seconds\n"
          ],
          "name": "stdout"
        }
      ]
    },
    {
      "cell_type": "markdown",
      "metadata": {
        "id": "-dXywI0zbROa"
      },
      "source": [
        "Now let us loop through multiple batches and measure time for each. Let's also calculate the average time it takes to generate a single batch of data from this small sample."
      ]
    },
    {
      "cell_type": "code",
      "metadata": {
        "id": "rOYKa7mIbYYN",
        "outputId": "3329a2d6-8134-4131-db95-6a74f997882f",
        "colab": {
          "base_uri": "https://localhost:8080/",
          "height": 1000
        }
      },
      "source": [
        "total_time = 0\n",
        "total_ct = 0\n",
        "for i in range(30,51):\n",
        "  start_time = time.time()\n",
        "  dg.__getitem__(i)\n",
        "  end_time = time.time()\n",
        "  print(\"Process took %.2f seconds\" % (end_time-start_time))\n",
        "  total_time += (end_time-start_time)\n",
        "  total_ct +=1\n",
        "print(\"Average time to generate a single batch: %.2f\" % (total_time/total_ct))"
      ],
      "execution_count": null,
      "outputs": [
        {
          "output_type": "stream",
          "text": [
            "524500461_243835078.m4a\n",
            "4215424\n",
            "Process took 1.10 seconds\n",
            "172067295_37545021.m4a\n",
            "4214912\n",
            "Process took 1.05 seconds\n",
            "544655410_243853092.m4a\n",
            "9152192\n",
            "Process took 1.63 seconds\n",
            "459985479_222358934.m4a\n",
            "2732928\n",
            "Process took 1.05 seconds\n",
            "443509753_173808619.m4a\n",
            "9163456\n",
            "Process took 1.54 seconds\n",
            "312874508_120588370.m4a\n",
            "3397376\n",
            "Process took 1.03 seconds\n",
            "372746313_126439607.m4a\n",
            "4172672\n",
            "Process took 1.09 seconds\n",
            "67640440_62343015.m4a\n",
            "4164992\n",
            "Process took 1.12 seconds\n",
            "307388511_91366358.m4a\n",
            "4214912\n",
            "Process took 1.11 seconds\n",
            "269977099_78149466.m4a\n",
            "4214656\n",
            "Process took 1.11 seconds\n",
            "54845271_125479988.m4a\n",
            "4215424\n",
            "Process took 1.10 seconds\n",
            "295305119_87547844.m4a\n",
            "4214912\n",
            "Process took 1.08 seconds\n",
            "65864893_3244916.m4a\n",
            "4214912\n",
            "Process took 1.07 seconds\n",
            "313056930_93384454.m4a\n",
            "4214656\n",
            "Process took 1.02 seconds\n",
            "484314656_195187742.m4a\n",
            "4214528\n",
            "Process took 1.05 seconds\n",
            "254222358_70414312.m4a\n",
            "4215424\n",
            "Process took 1.04 seconds\n",
            "242145147_138948490.m4a\n",
            "1951488\n",
            "Process took 0.70 seconds\n",
            "133273365_29661618.m4a\n",
            "4215168\n",
            "Process took 1.01 seconds\n",
            "80797106_10755130.m4a\n",
            "4215680\n",
            "Process took 1.04 seconds\n",
            "437428256_172715962.m4a\n",
            "4214656\n",
            "Process took 1.04 seconds\n",
            "119721256_102733807.m4a\n",
            "4215424\n",
            "Process took 1.01 seconds\n",
            "Average time to generate a single batch: 1.10\n"
          ],
          "name": "stdout"
        }
      ]
    },
    {
      "cell_type": "markdown",
      "metadata": {
        "id": "P3qCYkW7aP0L"
      },
      "source": [
        ""
      ]
    }
  ]
}