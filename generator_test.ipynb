{
  "nbformat": 4,
  "nbformat_minor": 0,
  "metadata": {
    "colab": {
      "name": "generator_test.ipynb",
      "provenance": []
    },
    "kernelspec": {
      "name": "python3",
      "display_name": "Python 3"
    }
  },
  "cells": [
    {
      "cell_type": "markdown",
      "metadata": {
        "id": "jVtXOf1f3baz"
      },
      "source": [
        "# **Data Generator Testing**\n",
        "This notebook demonstrates the necessary imports and setup to test the Data Generator. If you follow along with this notebook then you can test the Data Generator with our Amazing Grace audio data. The batches are generated as individual elements because of the inefficiency in reshaping audio data, but the generator still considerably improves performance."
      ]
    },
    {
      "cell_type": "markdown",
      "metadata": {
        "id": "77tGDCSf4SGh"
      },
      "source": [
        "Use the following commands to install the two libraries. ffmpeg is not used at this time but may be necessary later. Librosa allows us to easily read and process audio data."
      ]
    },
    {
      "cell_type": "code",
      "metadata": {
        "id": "2rAo-dgTCSg8",
        "outputId": "8a3a1e2f-baf8-4c31-ee18-85c00e87ebfc",
        "colab": {
          "base_uri": "https://localhost:8080/",
          "height": 241
        }
      },
      "source": [
        "!pip install librosa\n"
      ],
      "execution_count": 1,
      "outputs": [
        {
          "output_type": "stream",
          "text": [
            "Requirement already satisfied: librosa in /usr/local/lib/python3.6/dist-packages (0.6.3)\n",
            "Requirement already satisfied: joblib>=0.12 in /usr/local/lib/python3.6/dist-packages (from librosa) (0.16.0)\n",
            "Requirement already satisfied: six>=1.3 in /usr/local/lib/python3.6/dist-packages (from librosa) (1.15.0)\n",
            "Requirement already satisfied: audioread>=2.0.0 in /usr/local/lib/python3.6/dist-packages (from librosa) (2.1.8)\n",
            "Requirement already satisfied: resampy>=0.2.0 in /usr/local/lib/python3.6/dist-packages (from librosa) (0.2.2)\n",
            "Requirement already satisfied: scikit-learn!=0.19.0,>=0.14.0 in /usr/local/lib/python3.6/dist-packages (from librosa) (0.22.2.post1)\n",
            "Requirement already satisfied: numba>=0.38.0 in /usr/local/lib/python3.6/dist-packages (from librosa) (0.48.0)\n",
            "Requirement already satisfied: decorator>=3.0.0 in /usr/local/lib/python3.6/dist-packages (from librosa) (4.4.2)\n",
            "Requirement already satisfied: scipy>=1.0.0 in /usr/local/lib/python3.6/dist-packages (from librosa) (1.4.1)\n",
            "Requirement already satisfied: numpy>=1.8.0 in /usr/local/lib/python3.6/dist-packages (from librosa) (1.18.5)\n",
            "Requirement already satisfied: setuptools in /usr/local/lib/python3.6/dist-packages (from numba>=0.38.0->librosa) (50.3.0)\n",
            "Requirement already satisfied: llvmlite<0.32.0,>=0.31.0dev0 in /usr/local/lib/python3.6/dist-packages (from numba>=0.38.0->librosa) (0.31.0)\n"
          ],
          "name": "stdout"
        }
      ]
    },
    {
      "cell_type": "code",
      "metadata": {
        "id": "GFn2RjJPCZwT",
        "outputId": "06050355-3bc2-40ac-f3a3-86bf6848b18b",
        "colab": {
          "base_uri": "https://localhost:8080/",
          "height": 190
        }
      },
      "source": [
        "!pip install ffmpeg\n"
      ],
      "execution_count": 2,
      "outputs": [
        {
          "output_type": "stream",
          "text": [
            "Collecting ffmpeg\n",
            "  Downloading https://files.pythonhosted.org/packages/f0/cc/3b7408b8ecf7c1d20ad480c3eaed7619857bf1054b690226e906fdf14258/ffmpeg-1.4.tar.gz\n",
            "Building wheels for collected packages: ffmpeg\n",
            "  Building wheel for ffmpeg (setup.py) ... \u001b[?25l\u001b[?25hdone\n",
            "  Created wheel for ffmpeg: filename=ffmpeg-1.4-cp36-none-any.whl size=6083 sha256=9101b7a01db7a2d03dadd99979dea16c283b49b7eea500ad9ea890b01134709e\n",
            "  Stored in directory: /root/.cache/pip/wheels/b6/68/c3/a05a35f647ba871e5572b9bbfc0b95fd1c6637a2219f959e7a\n",
            "Successfully built ffmpeg\n",
            "Installing collected packages: ffmpeg\n",
            "Successfully installed ffmpeg-1.4\n"
          ],
          "name": "stdout"
        }
      ]
    },
    {
      "cell_type": "markdown",
      "metadata": {
        "id": "SkODXd4e4snB"
      },
      "source": [
        "Verify directory structure and create directory for audio data."
      ]
    },
    {
      "cell_type": "code",
      "metadata": {
        "id": "NF2x09M8CdKv",
        "outputId": "9f26ebd4-2972-4dc5-f6fa-0530e53a7eff",
        "colab": {
          "base_uri": "https://localhost:8080/",
          "height": 34
        }
      },
      "source": [
        "ls"
      ],
      "execution_count": 3,
      "outputs": [
        {
          "output_type": "stream",
          "text": [
            "\u001b[0m\u001b[01;34msample_data\u001b[0m/\n"
          ],
          "name": "stdout"
        }
      ]
    },
    {
      "cell_type": "code",
      "metadata": {
        "id": "6ZVyaGXeCepp"
      },
      "source": [
        "mkdir grace_data"
      ],
      "execution_count": 4,
      "outputs": []
    },
    {
      "cell_type": "code",
      "metadata": {
        "id": "TSxpTnLACpTG",
        "outputId": "e1ede64e-8460-4626-993f-a3165bee5044",
        "colab": {
          "base_uri": "https://localhost:8080/",
          "height": 34
        }
      },
      "source": [
        "ls"
      ],
      "execution_count": 5,
      "outputs": [
        {
          "output_type": "stream",
          "text": [
            "\u001b[0m\u001b[01;34mgrace_data\u001b[0m/  \u001b[01;34msample_data\u001b[0m/\n"
          ],
          "name": "stdout"
        }
      ]
    },
    {
      "cell_type": "code",
      "metadata": {
        "id": "xpwhcM4fCuFm",
        "outputId": "748d05b4-3d55-4775-abfc-3990c2bd06d4",
        "colab": {
          "base_uri": "https://localhost:8080/",
          "height": 34
        }
      },
      "source": [
        "cd grace_data/"
      ],
      "execution_count": 6,
      "outputs": [
        {
          "output_type": "stream",
          "text": [
            "/content/grace_data\n"
          ],
          "name": "stdout"
        }
      ]
    },
    {
      "cell_type": "markdown",
      "metadata": {
        "id": "wFnEEyci47Ji"
      },
      "source": [
        "Use the following two commands to unpack the Amazing Grace data from the below URL and into the current directory, creating a subdirectory under grace_data called amazing_grace."
      ]
    },
    {
      "cell_type": "code",
      "metadata": {
        "id": "7tuQP-_OCwTP",
        "outputId": "1567c837-0866-40b6-b9f5-380eb495a9e4",
        "colab": {
          "base_uri": "https://localhost:8080/",
          "height": 204
        }
      },
      "source": [
        "!wget https://ccrma.stanford.edu/damp/performances/amazing_grace/amazing_grace.tar.gz"
      ],
      "execution_count": 7,
      "outputs": [
        {
          "output_type": "stream",
          "text": [
            "--2020-10-13 04:15:12--  https://ccrma.stanford.edu/damp/performances/amazing_grace/amazing_grace.tar.gz\n",
            "Resolving ccrma.stanford.edu (ccrma.stanford.edu)... 171.64.197.141\n",
            "Connecting to ccrma.stanford.edu (ccrma.stanford.edu)|171.64.197.141|:443... connected.\n",
            "HTTP request sent, awaiting response... 200 OK\n",
            "Length: 18757937250 (17G) [application/x-gzip]\n",
            "Saving to: ‘amazing_grace.tar.gz’\n",
            "\n",
            "amazing_grace.tar.g 100%[===================>]  17.47G  32.1MB/s    in 9m 55s  \n",
            "\n",
            "2020-10-13 04:25:07 (30.1 MB/s) - ‘amazing_grace.tar.gz’ saved [18757937250/18757937250]\n",
            "\n"
          ],
          "name": "stdout"
        }
      ]
    },
    {
      "cell_type": "code",
      "metadata": {
        "id": "JQSGUT8NG4H0"
      },
      "source": [
        "!tar xvzf amazing_grace.tar.gz;"
      ],
      "execution_count": null,
      "outputs": []
    },
    {
      "cell_type": "markdown",
      "metadata": {
        "id": "urAdJsP85E4l"
      },
      "source": [
        "Verify directory structure and presence of data."
      ]
    },
    {
      "cell_type": "code",
      "metadata": {
        "id": "b4co3OW0Jkia",
        "outputId": "4af33193-f1ea-4b90-92e6-3d3e33670bba",
        "colab": {
          "base_uri": "https://localhost:8080/",
          "height": 51
        }
      },
      "source": [
        "%ls"
      ],
      "execution_count": 10,
      "outputs": [
        {
          "output_type": "stream",
          "text": [
            "\u001b[0m\u001b[01;34mamazing_grace\u001b[0m/     amazing_grace.midi    amazing_grace.tsv\n",
            "amazing_grace.m4a  amazing_grace.tar.gz\n"
          ],
          "name": "stdout"
        }
      ]
    },
    {
      "cell_type": "code",
      "metadata": {
        "id": "q6fyrEyFJwL3",
        "outputId": "52d2b200-7f3f-4dc9-da67-3d26077224e5",
        "colab": {
          "base_uri": "https://localhost:8080/",
          "height": 34
        }
      },
      "source": [
        "cd amazing_grace"
      ],
      "execution_count": 11,
      "outputs": [
        {
          "output_type": "stream",
          "text": [
            "/content/grace_data/amazing_grace\n"
          ],
          "name": "stdout"
        }
      ]
    },
    {
      "cell_type": "code",
      "metadata": {
        "id": "AMhit9A6J0oi"
      },
      "source": [
        "%ls"
      ],
      "execution_count": null,
      "outputs": []
    },
    {
      "cell_type": "markdown",
      "metadata": {
        "id": "J2GsGjgF5J03"
      },
      "source": [
        "Import some more necessary libraries. If you are running this code locally it is assumed you have these installed but if not then use pip and install these popular libraries."
      ]
    },
    {
      "cell_type": "code",
      "metadata": {
        "id": "2ZKElpvvYawF"
      },
      "source": [
        "import numpy as np\n",
        "import keras\n",
        "\n",
        "import random\n",
        "import librosa\n",
        "from os import listdir\n",
        "from os.path import isfile, join"
      ],
      "execution_count": 13,
      "outputs": []
    },
    {
      "cell_type": "markdown",
      "metadata": {
        "id": "DZ7qG7-D5TxH"
      },
      "source": [
        "Create list of files from the data and verify that list contains correct content."
      ]
    },
    {
      "cell_type": "code",
      "metadata": {
        "id": "QZRO01-NYoYN"
      },
      "source": [
        "file_list = [f for f in listdir(\".\") if isfile(join(\".\", f))]"
      ],
      "execution_count": 14,
      "outputs": []
    },
    {
      "cell_type": "code",
      "metadata": {
        "id": "-om-H3jyY3HM",
        "outputId": "edbe58c0-c898-4237-b46d-a0f609b6b9eb",
        "colab": {
          "base_uri": "https://localhost:8080/",
          "height": 34
        }
      },
      "source": [
        "cd .."
      ],
      "execution_count": 15,
      "outputs": [
        {
          "output_type": "stream",
          "text": [
            "/content/grace_data\n"
          ],
          "name": "stdout"
        }
      ]
    },
    {
      "cell_type": "code",
      "metadata": {
        "id": "ukpfY4PkdaP5",
        "outputId": "ee580e10-36c2-4d13-b4f7-599f8ee30509",
        "colab": {
          "base_uri": "https://localhost:8080/",
          "height": 34
        }
      },
      "source": [
        "cd .."
      ],
      "execution_count": 16,
      "outputs": [
        {
          "output_type": "stream",
          "text": [
            "/content\n"
          ],
          "name": "stdout"
        }
      ]
    },
    {
      "cell_type": "markdown",
      "metadata": {
        "id": "KlP05MzK5baN"
      },
      "source": [
        "Below is the script for the Data Generator. It takes in parameters corresponding to the data and then generates batches of data upon call (our batch size is set to one since we are dealing with audio data as described above, in the future we may look into reshaping methods).\n",
        "\n",
        "We are not generating any test data right now, as you can see with the commented out 'y' variable and corresponding code. This would generate labels along with the training data."
      ]
    },
    {
      "cell_type": "code",
      "metadata": {
        "id": "r3RHDG8fh6xQ"
      },
      "source": [
        "import numpy as np\n",
        "import keras\n",
        "\n",
        "import random\n",
        "import librosa\n",
        "from os import listdir\n",
        "from os.path import isfile, join\n",
        "\n",
        "class DataGenerator(keras.utils.Sequence):\n",
        "    'Generates data for Keras'\n",
        "    def __init__(self, path_prefix, list_IDs, labels, batch_size, dim, n_channels,\n",
        "                 n_classes, shuffle):\n",
        "        'Initialization'\n",
        "        self.dim = dim\n",
        "        self.batch_size = batch_size\n",
        "        self.labels = labels\n",
        "        self.list_IDs = list_IDs\n",
        "        self.n_channels = n_channels\n",
        "        self.n_classes = n_classes\n",
        "        self.shuffle = shuffle\n",
        "        self.prefix = path_prefix\n",
        "        self.on_epoch_end()\n",
        "\n",
        "    def __len__(self):\n",
        "        'Denotes the number of batches per epoch'\n",
        "        return int(np.floor(len(self.list_IDs) / self.batch_size))\n",
        "\n",
        "    def __getitem__(self, index):\n",
        "        'Generate one batch of data'\n",
        "        # Generate indexes of the batch\n",
        "        indexes = self.indexes[index*self.batch_size:(index+1)*self.batch_size]\n",
        "\n",
        "        # Find list of IDs\n",
        "        list_IDs_temp = [self.list_IDs[k] for k in indexes]\n",
        "\n",
        "        # Generate data\n",
        "        X = self.__data_generation(list_IDs_temp) #,y when other stuff is uncommented\n",
        "\n",
        "        return X#, y\n",
        "\n",
        "    def on_epoch_end(self):\n",
        "        'Updates indexes after each epoch'\n",
        "        self.indexes = np.arange(len(self.list_IDs))\n",
        "        if self.shuffle == True:\n",
        "            np.random.shuffle(self.indexes)\n",
        "\n",
        "    def __data_generation(self, list_IDs_temp):\n",
        "        'Generates data containing batch_size samples' # X : (n_samples, *dim, n_channels)\n",
        "        # Initialization\n",
        "        \n",
        "        curr_len = 0\n",
        "        for i,ID in enumerate(list_IDs_temp):\n",
        "          print(ID)\n",
        "          curr_len = len(self.load_audio('grace_data/amazing_grace/'+ID))\n",
        "        print(curr_len)\n",
        "        X = np.empty((self.batch_size, curr_len))\n",
        "        #y = np.empty((self.batch_size), dtype=int)\n",
        "\n",
        "        # Generate data\n",
        "        for i, ID in enumerate(list_IDs_temp):\n",
        "            # Store sample\n",
        "            #self.load_audio('grace_data/amazing_grace/312087870_108215812.m4a')\n",
        "            X[i,] = self.load_audio(self.prefix + \"/\" + ID)\n",
        "\n",
        "            # Store class\n",
        "            #y[i] = self.labels[ID]\n",
        "\n",
        "        return X#, keras.utils.to_categorical(y, num_classes=self.n_classes)\n",
        "\n",
        "    def load_audio(self,audio_file_path):\n",
        "        \"\"\"Load audio to numpy array and return it\n",
        "        \"\"\"\n",
        "        x,sr = librosa.load(audio_file_path, sr = None)\n",
        "        return x"
      ],
      "execution_count": 36,
      "outputs": []
    },
    {
      "cell_type": "code",
      "metadata": {
        "id": "KAsvjmBrATyw",
        "outputId": "7a7c7663-2789-40ff-a40a-754b378755a0",
        "colab": {
          "base_uri": "https://localhost:8080/",
          "height": 34
        }
      },
      "source": [
        "print (\"Number of audio files: \" + str(len(file_list)))"
      ],
      "execution_count": 37,
      "outputs": [
        {
          "output_type": "stream",
          "text": [
            "Number of audio files: 17582\n"
          ],
          "name": "stdout"
        }
      ]
    },
    {
      "cell_type": "markdown",
      "metadata": {
        "id": "NvIfPKHG5wik"
      },
      "source": [
        "Construct a data generator with parameters corresponding to data, set labels to just one for now since we are not performing any classification at this moment."
      ]
    },
    {
      "cell_type": "code",
      "metadata": {
        "id": "8YxmsdT11jTp"
      },
      "source": [
        "dg = DataGenerator(\"grace_data/amazing_grace\",file_list,[\"grace\"]*len(file_list),1,(1,len(file_list)), 1,1,True)"
      ],
      "execution_count": 38,
      "outputs": []
    },
    {
      "cell_type": "markdown",
      "metadata": {
        "id": "7qWOHgGD6KlY"
      },
      "source": [
        "Verify our loading of audio to a numpy array works by calling the function and checking the length."
      ]
    },
    {
      "cell_type": "code",
      "metadata": {
        "id": "uNSZUuguF_K-",
        "outputId": "c0f947ec-12bd-40f7-9db3-f1c920341882",
        "colab": {
          "base_uri": "https://localhost:8080/",
          "height": 51
        }
      },
      "source": [
        "dg.load_audio('grace_data/amazing_grace/312087870_108215812.m4a')"
      ],
      "execution_count": 39,
      "outputs": [
        {
          "output_type": "execute_result",
          "data": {
            "text/plain": [
              "array([-1.2207031e-04, -1.2817383e-03, -2.0141602e-03, ...,\n",
              "        3.0517578e-05,  0.0000000e+00,  3.0517578e-05], dtype=float32)"
            ]
          },
          "metadata": {
            "tags": []
          },
          "execution_count": 39
        }
      ]
    },
    {
      "cell_type": "code",
      "metadata": {
        "id": "hApdXSd_ftOy",
        "outputId": "a5e8629e-c248-481e-daa7-20a6c852d508",
        "colab": {
          "base_uri": "https://localhost:8080/",
          "height": 34
        }
      },
      "source": [
        "len(dg.load_audio('grace_data/amazing_grace/312087870_108215812.m4a'))"
      ],
      "execution_count": 40,
      "outputs": [
        {
          "output_type": "execute_result",
          "data": {
            "text/plain": [
              "4215424"
            ]
          },
          "metadata": {
            "tags": []
          },
          "execution_count": 40
        }
      ]
    },
    {
      "cell_type": "code",
      "metadata": {
        "id": "B_GU3lCSFzAY",
        "outputId": "775dcb66-f10a-4a3e-c65a-e2dbbafafcb3",
        "colab": {
          "base_uri": "https://localhost:8080/",
          "height": 34
        }
      },
      "source": [
        "len(dg.load_audio('grace_data/amazing_grace/510603659_264818125.m4a'))"
      ],
      "execution_count": 41,
      "outputs": [
        {
          "output_type": "execute_result",
          "data": {
            "text/plain": [
              "6718912"
            ]
          },
          "metadata": {
            "tags": []
          },
          "execution_count": 41
        }
      ]
    },
    {
      "cell_type": "markdown",
      "metadata": {
        "id": "IMDox9946MZW"
      },
      "source": [
        "Finally, here is where we test our data generator. Call the __getitem__ method, the parameter which you pass is an index which corresponds to the batch you want to generate. For example, passing in 0 would mean you want the first batch of audio files' data."
      ]
    },
    {
      "cell_type": "code",
      "metadata": {
        "id": "CDZp7xP5lEwG",
        "outputId": "f35707b4-d8d0-4c18-e806-5027dbfd5349",
        "colab": {
          "base_uri": "https://localhost:8080/",
          "height": 85
        }
      },
      "source": [
        "dg.__getitem__(0)"
      ],
      "execution_count": 42,
      "outputs": [
        {
          "output_type": "stream",
          "text": [
            "315369988_100070961.m4a\n",
            "4215168\n"
          ],
          "name": "stdout"
        },
        {
          "output_type": "execute_result",
          "data": {
            "text/plain": [
              "array([[-1.95312500e-03, -1.73950195e-03,  2.22778320e-03, ...,\n",
              "        -9.15527344e-05,  1.22070312e-04,  9.15527344e-05]])"
            ]
          },
          "metadata": {
            "tags": []
          },
          "execution_count": 42
        }
      ]
    },
    {
      "cell_type": "code",
      "metadata": {
        "id": "kDzEdYPBp-hc",
        "outputId": "438bcb7d-8fa1-4678-d993-b5d465870ab6",
        "colab": {
          "base_uri": "https://localhost:8080/",
          "height": 85
        }
      },
      "source": [
        "dg.__getitem__(1)"
      ],
      "execution_count": 43,
      "outputs": [
        {
          "output_type": "stream",
          "text": [
            "186214898_38494794.m4a\n",
            "8389952\n"
          ],
          "name": "stdout"
        },
        {
          "output_type": "execute_result",
          "data": {
            "text/plain": [
              "array([[-0.00061035, -0.00057983, -0.00059509, ...,  0.00109863,\n",
              "         0.00105286,  0.00100708]])"
            ]
          },
          "metadata": {
            "tags": []
          },
          "execution_count": 43
        }
      ]
    },
    {
      "cell_type": "code",
      "metadata": {
        "id": "_86_EO9yrBUL",
        "outputId": "dc832cc5-3d76-40c0-b80c-31dd78dd973a",
        "colab": {
          "base_uri": "https://localhost:8080/",
          "height": 85
        }
      },
      "source": [
        "dg.__getitem__(200)"
      ],
      "execution_count": 44,
      "outputs": [
        {
          "output_type": "stream",
          "text": [
            "340056358_108372264.m4a\n",
            "9110592\n"
          ],
          "name": "stdout"
        },
        {
          "output_type": "execute_result",
          "data": {
            "text/plain": [
              "array([[ 1.22070312e-04,  2.74658203e-04,  1.52587891e-04, ...,\n",
              "        -3.05175781e-05,  1.83105469e-04,  1.83105469e-04]])"
            ]
          },
          "metadata": {
            "tags": []
          },
          "execution_count": 44
        }
      ]
    },
    {
      "cell_type": "code",
      "metadata": {
        "id": "LaWSHKMg3JWB",
        "outputId": "7969324d-065a-4c11-f286-437d3898c9e3",
        "colab": {
          "base_uri": "https://localhost:8080/",
          "height": 85
        }
      },
      "source": [
        "dg.__getitem__(3102)"
      ],
      "execution_count": 45,
      "outputs": [
        {
          "output_type": "stream",
          "text": [
            "115538407_72955355.m4a\n",
            "4214912\n"
          ],
          "name": "stdout"
        },
        {
          "output_type": "execute_result",
          "data": {
            "text/plain": [
              "array([[-0.00027466, -0.00054932,  0.00100708, ...,  0.        ,\n",
              "         0.        ,  0.        ]])"
            ]
          },
          "metadata": {
            "tags": []
          },
          "execution_count": 45
        }
      ]
    },
    {
      "cell_type": "code",
      "metadata": {
        "id": "OsfsQReD_tfd",
        "outputId": "5c43fe21-9924-4041-b921-0d9454ff8f24",
        "colab": {
          "base_uri": "https://localhost:8080/",
          "height": 34
        }
      },
      "source": [
        "dg.__len__()"
      ],
      "execution_count": 46,
      "outputs": [
        {
          "output_type": "execute_result",
          "data": {
            "text/plain": [
              "17582"
            ]
          },
          "metadata": {
            "tags": []
          },
          "execution_count": 46
        }
      ]
    },
    {
      "cell_type": "code",
      "metadata": {
        "id": "Xaobi4-w_v37"
      },
      "source": [
        "dg.on_epoch_end()"
      ],
      "execution_count": 47,
      "outputs": []
    },
    {
      "cell_type": "markdown",
      "metadata": {
        "id": "umjo8sShYkOh"
      },
      "source": [
        ""
      ]
    }
  ]
}