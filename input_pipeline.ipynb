{
  "nbformat": 4,
  "nbformat_minor": 0,
  "metadata": {
    "colab": {
      "name": "input_pipeline.ipynb",
      "provenance": [],
      "collapsed_sections": [],
      "toc_visible": true
    },
    "kernelspec": {
      "display_name": "Python 3",
      "language": "python",
      "name": "python3"
    },
    "language_info": {
      "codemirror_mode": {
        "name": "ipython",
        "version": 3
      },
      "file_extension": ".py",
      "mimetype": "text/x-python",
      "name": "python",
      "nbconvert_exporter": "python",
      "pygments_lexer": "ipython3",
      "version": "3.7.4"
    }
  },
  "cells": [
    {
      "cell_type": "markdown",
      "metadata": {
        "id": "32BPlIkt22ZP"
      },
      "source": [
        "# Input Data Pipeline"
      ]
    },
    {
      "cell_type": "code",
      "metadata": {
        "id": "-XJRi3FMHgkh",
        "outputId": "fa3fc640-819e-4f93-d314-bb0ce6ca92b6",
        "colab": {
          "base_uri": "https://localhost:8080/"
        }
      },
      "source": [
        "from google.colab import drive\n",
        "drive.mount('/content/drive')"
      ],
      "execution_count": 2,
      "outputs": [
        {
          "output_type": "stream",
          "text": [
            "Drive already mounted at /content/drive; to attempt to forcibly remount, call drive.mount(\"/content/drive\", force_remount=True).\n"
          ],
          "name": "stdout"
        }
      ]
    },
    {
      "cell_type": "code",
      "metadata": {
        "id": "UrfE-jXrIx0H"
      },
      "source": [
        "%cd /content/drive/My Drive/Research/FIRE/2020-Speech-Recognition/amazing_grace/\n",
        "%ls"
      ],
      "execution_count": null,
      "outputs": []
    },
    {
      "cell_type": "code",
      "metadata": {
        "id": "gv4AO0TB4BJH"
      },
      "source": [
        "!pip install librosa\n",
        "!pip install python_speech_features\n",
        "!pip install lyrics-extractor"
      ],
      "execution_count": null,
      "outputs": []
    },
    {
      "cell_type": "code",
      "metadata": {
        "id": "Mx8Y--pR23u5"
      },
      "source": [
        "import tensorflow as tf\n",
        "import keras\n",
        "import librosa\n",
        "import numpy as np\n",
        "import os\n",
        "import re\n",
        "from lyrics_extractor import SongLyrics"
      ],
      "execution_count": 4,
      "outputs": []
    },
    {
      "cell_type": "code",
      "metadata": {
        "id": "XYM5ABpHHkWt",
        "outputId": "fe6feffd-2e26-4bce-e6ff-c4f139aaa2c5",
        "colab": {
          "base_uri": "https://localhost:8080/"
        }
      },
      "source": [
        "%cd ..\n",
        "%ls"
      ],
      "execution_count": 5,
      "outputs": [
        {
          "output_type": "stream",
          "text": [
            "/content/drive/My Drive/Research/FIRE/2020-Speech-Recognition\n",
            "\u001b[0m\u001b[01;34mamazing_grace\u001b[0m/        checker.py            keys.txt\n",
            "amazing_grace.m4a     DataAugmentation.py   PinkPanther30.wav\n",
            "amazing_grace.midi    data_checker.py       \u001b[01;34m__pycache__\u001b[0m/\n",
            "amazing_grace.tar.gz  DataGenerator.py      README.md\n",
            "amazing_grace.tsv     generator_test.ipynb  \u001b[01;36mUnited_States_Top_50\u001b[0m@\n"
          ],
          "name": "stdout"
        }
      ]
    },
    {
      "cell_type": "code",
      "metadata": {
        "id": "Yq8DJKkyHtNn"
      },
      "source": [
        "keys = open(\"keys.txt\").readlines()\n",
        "api_key = keys[0]\n",
        "engine_id = keys[1]\n",
        "extract_lyrics = SongLyrics(api_key, engine_id)"
      ],
      "execution_count": 14,
      "outputs": []
    },
    {
      "cell_type": "code",
      "metadata": {
        "id": "r-Zj8tePLwgg"
      },
      "source": [
        "def process_lyrics(lyrics):\n",
        "  lyrics = re.sub(\"[\\(\\[].*?[\\)\\]]\", \"\", lyrics)\n",
        "  lyrics = lyrics.replace('\\n', ' ')\n",
        "  return lyrics.lower()\n",
        "\n",
        "lyrics = extract_lyrics.get_lyrics(\"Amazing Grace\")\n",
        "lyrics = process_lyrics(data['lyrics'])"
      ],
      "execution_count": 16,
      "outputs": []
    },
    {
      "cell_type": "markdown",
      "metadata": {
        "id": "99B0NUnYtDiy"
      },
      "source": [
        "Here, we load in our dataset using our generator."
      ]
    },
    {
      "cell_type": "code",
      "metadata": {
        "id": "-LqR6BhvT2V5",
        "outputId": "ba94894d-6d59-41bb-e65e-d6be01ef1bc8",
        "colab": {
          "base_uri": "https://localhost:8080/"
        }
      },
      "source": [
        "import random\n",
        "from os import listdir\n",
        "from os.path import isfile, join\n",
        "from DataGenerator import DataGenerator\n",
        "\n",
        "batch_size = 50\n",
        "AUTOTUNE = tf.data.experimental.AUTOTUNE\n",
        "\n",
        "file_list = [f for f in listdir(\"amazing_grace/\") if isfile(join(\"amazing_grace/\", f))]\n",
        "gen_args = [\"amazing_grace/\",file_list,[lyrics]*len(file_list),batch_size,(1,len(file_list)), 1,1,True]\n",
        "batch = tf.data.Dataset.from_generator(DataGenerator, args=gen_args,\n",
        "                                         output_types=tf.int32, \n",
        "                                         output_shapes = (batch_size, None, 80),)\n",
        "\n",
        "batch = batch.prefetch(buffer_size=AUTOTUNE)\n",
        "options = tf.data.Options()\n",
        "options.experimental_threading.max_intra_op_parallelism = 1\n",
        "batch = batch.with_options(options)\n",
        "print(batch)"
      ],
      "execution_count": 17,
      "outputs": [
        {
          "output_type": "stream",
          "text": [
            "<_OptionsDataset shapes: (50, None, 80), types: tf.int32>\n"
          ],
          "name": "stdout"
        }
      ]
    }
  ]
}